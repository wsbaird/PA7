{
 "cells": [
  {
   "cell_type": "code",
   "execution_count": 25,
   "metadata": {},
   "outputs": [],
   "source": [
    "import itertools as it"
   ]
  },
  {
   "cell_type": "code",
   "execution_count": 33,
   "metadata": {},
   "outputs": [
    {
     "name": "stdout",
     "output_type": "stream",
     "text": [
      "Enter your word (0 to quit):nope\n",
      "Word entered must be five characters long.  Please try again.\n",
      "Enter your word (0 to quit):howaboutthis\n",
      "Word entered must be five characters long.  Please try again.\n",
      "Enter your word (0 to quit):agree\n",
      "[('a', 'g', 'r'), ('a', 'g', 'e'), ('a', 'g', 'e'), ('a', 'r', 'g'), ('a', 'r', 'e'), ('a', 'r', 'e'), ('a', 'e', 'g'), ('a', 'e', 'r'), ('a', 'e', 'e'), ('a', 'e', 'g'), ('a', 'e', 'r'), ('a', 'e', 'e'), ('g', 'a', 'r'), ('g', 'a', 'e'), ('g', 'a', 'e'), ('g', 'r', 'a'), ('g', 'r', 'e'), ('g', 'r', 'e'), ('g', 'e', 'a'), ('g', 'e', 'r'), ('g', 'e', 'e'), ('g', 'e', 'a'), ('g', 'e', 'r'), ('g', 'e', 'e'), ('r', 'a', 'g'), ('r', 'a', 'e'), ('r', 'a', 'e'), ('r', 'g', 'a'), ('r', 'g', 'e'), ('r', 'g', 'e'), ('r', 'e', 'a'), ('r', 'e', 'g'), ('r', 'e', 'e'), ('r', 'e', 'a'), ('r', 'e', 'g'), ('r', 'e', 'e'), ('e', 'a', 'g'), ('e', 'a', 'r'), ('e', 'a', 'e'), ('e', 'g', 'a'), ('e', 'g', 'r'), ('e', 'g', 'e'), ('e', 'r', 'a'), ('e', 'r', 'g'), ('e', 'r', 'e'), ('e', 'e', 'a'), ('e', 'e', 'g'), ('e', 'e', 'r'), ('e', 'a', 'g'), ('e', 'a', 'r'), ('e', 'a', 'e'), ('e', 'g', 'a'), ('e', 'g', 'r'), ('e', 'g', 'e'), ('e', 'r', 'a'), ('e', 'r', 'g'), ('e', 'r', 'e'), ('e', 'e', 'a'), ('e', 'e', 'g'), ('e', 'e', 'r')]\n",
      "Enter your word (0 to quit):0\n",
      "Thank you for using this program.\n"
     ]
    }
   ],
   "source": [
    "def getperm(x):\n",
    "    ana = list(it.permutations(x, r=3))\n",
    "    return ana\n",
    "\n",
    "word = input(\"Enter your word (0 to quit):\")\n",
    "\n",
    "while word != \"0\":\n",
    "    if len(word) > 5 or len(word) < 5:\n",
    "        print (\"Word entered must be five characters long.  Please try again.\")\n",
    "        word = input(\"Enter your word (0 to quit):\")\n",
    "    else:\n",
    "        getperm(word)\n",
    "        anagrams = getperm(word)\n",
    "        print (anagrams)\n",
    "        word = input(\"Enter your word (0 to quit):\")\n",
    "else:\n",
    "    print(\"Thank you for using this program.\")"
   ]
  },
  {
   "cell_type": "code",
   "execution_count": 99,
   "metadata": {},
   "outputs": [
    {
     "name": "stdout",
     "output_type": "stream",
     "text": [
      "Enter a arithmatic expression in words:twenty plus two\n",
      "Invalid number\n",
      "8 + 2 = 10\n",
      "Enter a arithmatic expression in words:nine plus one\n",
      "9 + 1 = 10\n",
      "Enter a arithmatic expression in words:nine times nine\n",
      "9 * 9 = 81\n",
      "Enter a arithmatic expression in words:0\n"
     ]
    }
   ],
   "source": [
    "themath = input(\"Enter a arithmatic expression in words:\")\n",
    "\n",
    "while themath != '0':\n",
    "    \n",
    "    mathlist = themath.split(\" \")\n",
    "\n",
    "    if 'by' in mathlist:\n",
    "        mathlist.remove('by')\n",
    "\n",
    "    numlist = ('zero', 'one', 'two', 'three', 'four', 'five', 'six', 'seven', 'eight', 'nine')\n",
    "    numdic = {'zero': 0, 'one': 1,\n",
    "              'two': 2, 'three': 3,\n",
    "              'four': 4, 'five': 5,\n",
    "              'six': 6, 'seven': 7,\n",
    "              'eight': 8, 'nine': 9}\n",
    "\n",
    "    equalist = ('times', 'plus', 'minus', 'divided')\n",
    "    equadic = {'times': '*', 'plus': '+', 'minus': '-', 'divided': '%'}\n",
    "    \n",
    "    val1 = mathlist[0]\n",
    "    if val1 in numdic:\n",
    "        var1 = numdic[val1]\n",
    "    else:\n",
    "        print(\"Invalid number\")\n",
    "        \n",
    "    equation = mathlist[1]\n",
    "    if equation in equadic:\n",
    "        equa = equadic[equation]\n",
    "    else:\n",
    "        print(\"Invalid number\")\n",
    "        \n",
    "    val2 = mathlist[2]\n",
    "    if val2 in numdic:\n",
    "        var2 = numdic[val2]\n",
    "    else:\n",
    "        print(\"Invalid number\")\n",
    "        \n",
    "    \n",
    "    if equa == '+':\n",
    "        result = var1 + var2\n",
    "        print (var1, \"+\", var2, \"=\", result)\n",
    "\n",
    "    if equa == '-':\n",
    "        result = var1 - var2\n",
    "        print (var1, \"-\", var2, \"=\", result)\n",
    "    \n",
    "    if equa == '*':\n",
    "        result = var1 * var2\n",
    "        print (var1, \"*\", var2, \"=\", result)\n",
    "\n",
    "    if equa == '%':\n",
    "        result = var1 // var2\n",
    "        print (var1, \"/\", var2, \"=\", result)\n",
    "        \n",
    "    \n",
    "    themath = input(\"Enter a arithmatic expression in words:\")"
   ]
  },
  {
   "cell_type": "code",
   "execution_count": null,
   "metadata": {},
   "outputs": [],
   "source": []
  }
 ],
 "metadata": {
  "kernelspec": {
   "display_name": "Python 3",
   "language": "python",
   "name": "python3"
  },
  "language_info": {
   "codemirror_mode": {
    "name": "ipython",
    "version": 3
   },
   "file_extension": ".py",
   "mimetype": "text/x-python",
   "name": "python",
   "nbconvert_exporter": "python",
   "pygments_lexer": "ipython3",
   "version": "3.8.3"
  }
 },
 "nbformat": 4,
 "nbformat_minor": 4
}
